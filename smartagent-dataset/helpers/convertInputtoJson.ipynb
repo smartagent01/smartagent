{
 "cells": [
  {
   "cell_type": "code",
   "execution_count": null,
   "metadata": {},
   "outputs": [],
   "source": [
    "import os\n",
    "import sys\n",
    "import json\n",
    "file_with_blockchain_name = '../AccessControl/SmartBugsWild/smartbugswild_addresses.txt'\n",
    "file_with_solc_version = '../AccessControl/SmartBugsWild/smartbugswild_files.txt'\n",
    "with open(file_with_blockchain_name, 'r') as f:\n",
    "    addr_data = f.read().splitlines()\n",
    "blockchain_names = []\n",
    "addresses = []\n",
    "for x in addr_data:\n",
    "    if x != '':\n",
    "        address, blockchain_name = x.split(\",\")\n",
    "        blockchain_names.append(blockchain_name)\n",
    "        addresses.append(address)\n",
    "print(len(blockchain_names))\n",
    "print(len(addresses))\n",
    "with open(file_with_solc_version, 'r') as f:\n",
    "    solc_version = f.read().splitlines()\n",
    "all_files = {}\n",
    "for idx,x in enumerate(solc_version):\n",
    "    print(idx, x)\n",
    "    items = x.split(\",\")\n",
    "    file, contract, version = items[0], items[1:-1], items[-1]\n",
    "    all_files[file] = {\n",
    "        \"file\": file,\n",
    "        \"contract\": contract,\n",
    "        \"version\": version,\n",
    "        \"blockchain\": blockchain_names[idx],\n",
    "        \"address\": addresses[idx]\n",
    "    }\n",
    "with open('../AccessControl/SmartBugsWild/all_files.json', 'w') as f:\n",
    "    json.dump(all_files, f, indent=2)\n"
   ]
  },
  {
   "cell_type": "code",
   "execution_count": null,
   "metadata": {},
   "outputs": [],
   "source": []
  },
  {
   "cell_type": "code",
   "execution_count": null,
   "metadata": {},
   "outputs": [],
   "source": [
    "import os\n",
    "import json\n",
    "with open('../AccessControl/CVE/all_files.json', 'r') as f:\n",
    "    files_json = json.load(f)\n",
    "base_path  = '../AccessControl/CVE/'\n",
    "for key_,val_ in files_json.items():\n",
    "    folder_path = base_path + val_['address']\n",
    "    found_bin  = False\n",
    "    for file in os.listdir(folder_path):\n",
    "        if file.endswith(\".bin-runtime\"):\n",
    "            found_bin = True\n",
    "    if not found_bin:\n",
    "        print (folder_path)"
   ]
  }
 ],
 "metadata": {
  "kernelspec": {
   "display_name": "py39",
   "language": "python",
   "name": "py39"
  },
  "language_info": {
   "codemirror_mode": {
    "name": "ipython",
    "version": 3
   },
   "file_extension": ".py",
   "mimetype": "text/x-python",
   "name": "python",
   "nbconvert_exporter": "python",
   "pygments_lexer": "ipython3",
   "version": "3.9.12"
  }
 },
 "nbformat": 4,
 "nbformat_minor": 2
}
