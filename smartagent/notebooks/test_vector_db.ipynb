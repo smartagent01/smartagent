{
 "cells": [
  {
   "cell_type": "code",
   "execution_count": 17,
   "metadata": {},
   "outputs": [],
   "source": [
    "import os\n",
    "from langchain.document_loaders import TextLoader\n",
    "from langchain.embeddings.openai import OpenAIEmbeddings\n",
    "from langchain.text_splitter import CharacterTextSplitter\n",
    "from langchain.vectorstores import Chroma\n",
    "from langchain.embeddings import OpenAIEmbeddings\n",
    "import json\n",
    "data_file = \"final_fp_all_tools_flattened.json\"\n",
    "with open(data_file, \"r\") as f:\n",
    "    data = json.load(f)\n",
    "code_raw = list(data.keys())\n",
    "code_embed = list(data.values())\n",
    "\n",
    "# vectorstore = Chroma(\"langchain_store\", embeddings)\n",
    "# vectorstore = Chroma.from_texts(code_raw, code_embed)\n",
    "embeddings = OpenAIEmbeddings()\n",
    "db2 = Chroma.from_texts(code_raw, embeddings, persist_directory=\"../src/.chroma_db\")\n",
    "# docs = db2.similarity_search(query)\n",
    "# db = Chroma.from_text(, OpenAIEmbeddings())\n"
   ]
  },
  {
   "cell_type": "code",
   "execution_count": 21,
   "metadata": {},
   "outputs": [
    {
     "name": "stdout",
     "output_type": "stream",
     "text": [
      "    function get() public payable {\n",
      "\n",
      "        if (msg.value >= address(this).balance)\n",
      "\n",
      "            msg.sender.transfer(address(this).balance);\n",
      "\n",
      "    }\n",
      "\n",
      "}\n"
     ]
    }
   ],
   "source": [
    "# load from disk\n",
    "db3 = Chroma(persist_directory=\"../src/.chroma_db\", embedding_function=embeddings)\n",
    "docs = db3.similarity_search(\"function claim() public payable {\\n\\n        if (msg.value >= address(this).balance)\\n\\n            msg.sender.transfer(address(this).balance);\\n\\n    }\")\n",
    "print(docs[2].page_content)"
   ]
  },
  {
   "cell_type": "code",
   "execution_count": 13,
   "metadata": {},
   "outputs": [
    {
     "name": "stdout",
     "output_type": "stream",
     "text": [
      "352\n"
     ]
    }
   ],
   "source": [
    "# print (len(final_documents))"
   ]
  }
 ],
 "metadata": {
  "kernelspec": {
   "display_name": "base",
   "language": "python",
   "name": "python3"
  },
  "language_info": {
   "codemirror_mode": {
    "name": "ipython",
    "version": 3
   },
   "file_extension": ".py",
   "mimetype": "text/x-python",
   "name": "python",
   "nbconvert_exporter": "python",
   "pygments_lexer": "ipython3",
   "version": "3.9.12"
  }
 },
 "nbformat": 4,
 "nbformat_minor": 2
}
