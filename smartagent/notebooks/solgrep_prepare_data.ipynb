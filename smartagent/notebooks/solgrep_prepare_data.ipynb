{
 "cells": [
  {
   "cell_type": "code",
   "execution_count": null,
   "metadata": {},
   "outputs": [],
   "source": [
    "\n",
    "import os\n",
    "import json\n",
    "import subprocess\n",
    "\n",
    "def run_solgrep(file_path):\n",
    "    print (\"get data\", file_path)\n",
    "    file_name = file_path.split('/')[-1]\n",
    "    command = ['./solgrep_wrapper.sh', file_path, \"\\\"modifier.name\\\"\", file_path.replace(file_name, f\"solgrep_modifier_data.json\")]\n",
    "    result = subprocess.run(command,check=True, stdout=subprocess.PIPE, stderr=subprocess.PIPE, text=True)\n",
    "    command = ['./solgrep_wrapper.sh', file_path, \"\\\"function.name\\\"\", file_path.replace(file_name, f\"solgrep_function_data.json\")]\n",
    "    result = subprocess.run(command,check=True, stdout=subprocess.PIPE, stderr=subprocess.PIPE, text=True)\n",
    "\n",
    "def prepare_solgrep_data(metadata_path):\n",
    "    with open(metadata_path, 'r') as f:\n",
    "        metadata = json.load(f)\n",
    "    base_path  = os.path.dirname(os.path.abspath(metadata_path))\n",
    "    print (len(metadata))\n",
    "    for meta_k,meta_val in metadata.items():\n",
    "        file_path = os.path.join(base_path,meta_val.get(\"file\"))\n",
    "        run_solgrep(file_path)\n",
    "        # break\n",
    "\n",
    "json_path = '../smartagent-dataset/Real-Hacks-SunWeb3Sec/access-control/all_files.json'\n",
    "prepare_solgrep_data(json_path)\n"
   ]
  },
  {
   "cell_type": "code",
   "execution_count": null,
   "metadata": {},
   "outputs": [],
   "source": [
    "import json\n",
    "\n",
    "def check_modifiers(json_path):\n",
    "    modifier_stats = []\n",
    "    max_modifiers = 0\n",
    "    max_modifier_key  = None\n",
    "    with open(json_path, 'r') as f:\n",
    "        metadata = json.load(f)\n",
    "    base_path  = os.path.dirname(os.path.abspath(json_path))\n",
    "    for meta_k,meta_val in metadata.items():\n",
    "        file_path = os.path.join(base_path,meta_val.get(\"file\"))\n",
    "        file_name = file_path.split('/')[-1]\n",
    "        modifier_file = file_path.replace(file_name, f\"solgrep_modifier_data.json\")\n",
    "        with open(modifier_file, 'r') as f:\n",
    "            total_modifiers_len = 0\n",
    "            modifier_data = json.load(f)\n",
    "\n",
    "            if len(modifier_data) < 1:\n",
    "                continue\n",
    "            # print (modifier_data)\n",
    "            value = list(modifier_data.values())[0]\n",
    "            for item in value:\n",
    "                loc = item.get(\"loc\")\n",
    "                if loc:\n",
    "                    total_modifiers_len = total_modifiers_len + (loc[2]-loc[0])\n",
    "        if total_modifiers_len > max_modifiers:\n",
    "            max_modifiers = total_modifiers_len\n",
    "            max_modifier_key = meta_k\n",
    "        modifier_stats.append(total_modifiers_len)\n",
    "    print (max_modifiers, max_modifier_key)\n",
    "    return modifier_stats\n",
    "json_path = '../smartagent-dataset/AccessControl/SmartBugsWild/all_files.json'\n",
    "modifier_stats = check_modifiers(json_path)\n",
    "print\n",
    "print (modifier_stats)\n",
    "import matplotlib.pyplot as plt\n",
    "plt.hist(modifier_stats)"
   ]
  }
 ],
 "metadata": {
  "kernelspec": {
   "display_name": "py39",
   "language": "python",
   "name": "python3"
  },
  "language_info": {
   "codemirror_mode": {
    "name": "ipython",
    "version": 3
   },
   "file_extension": ".py",
   "mimetype": "text/x-python",
   "name": "python",
   "nbconvert_exporter": "python",
   "pygments_lexer": "ipython3",
   "version": "3.9.12"
  }
 },
 "nbformat": 4,
 "nbformat_minor": 2
}
